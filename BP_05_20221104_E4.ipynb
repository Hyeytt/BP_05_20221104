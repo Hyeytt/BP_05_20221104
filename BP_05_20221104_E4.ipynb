{
  "nbformat": 4,
  "nbformat_minor": 0,
  "metadata": {
    "colab": {
      "provenance": [],
      "authorship_tag": "ABX9TyMw9a2CfnifnASOtgtLAfwD",
      "include_colab_link": true
    },
    "kernelspec": {
      "name": "python3",
      "display_name": "Python 3"
    },
    "language_info": {
      "name": "python"
    }
  },
  "cells": [
    {
      "cell_type": "markdown",
      "metadata": {
        "id": "view-in-github",
        "colab_type": "text"
      },
      "source": [
        "<a href=\"https://colab.research.google.com/github/Hyeytt/BP_05_20221104_E4/blob/main/BP_05_20221104_E4.ipynb\" target=\"_parent\"><img src=\"https://colab.research.google.com/assets/colab-badge.svg\" alt=\"Open In Colab\"/></a>"
      ]
    },
    {
      "cell_type": "markdown",
      "source": [
        "# 1. 왜 다음과 같은 수식이 오류를 발생시키는가? 올바르게 수정하라 "
      ],
      "metadata": {
        "id": "h_AHucj7bnx_"
      }
    },
    {
      "cell_type": "code",
      "execution_count": null,
      "metadata": {
        "colab": {
          "base_uri": "https://localhost:8080/"
        },
        "id": "yOJ3S7zFbWGf",
        "outputId": "40448b68-1df3-41f8-dcbc-c5afb2601b5c"
      },
      "outputs": [
        {
          "output_type": "stream",
          "name": "stdout",
          "text": [
            "나는12개의 사과를 먹었다\n"
          ]
        }
      ],
      "source": [
        "print('나는' + str(12) + '개의 사과를 먹었다')"
      ]
    },
    {
      "cell_type": "markdown",
      "source": [
        "# 2. 다음과 같은 수식을 계산하면 결과는 무엇인가?"
      ],
      "metadata": {
        "id": "fyXzdmm6ckQC"
      }
    },
    {
      "cell_type": "code",
      "source": [
        "print('apple' + 'grape')\n",
        "print('apple' * 3)"
      ],
      "metadata": {
        "colab": {
          "base_uri": "https://localhost:8080/"
        },
        "id": "QvWSUJBPclq6",
        "outputId": "cd95c6a5-ed0b-454b-ed71-bb22489f3b0f"
      },
      "execution_count": null,
      "outputs": [
        {
          "output_type": "stream",
          "name": "stdout",
          "text": [
            "applegrape\n",
            "appleappleapple\n"
          ]
        }
      ]
    },
    {
      "cell_type": "markdown",
      "source": [
        "# 3."
      ],
      "metadata": {
        "id": "wg-3ZeOrdRwY"
      }
    },
    {
      "cell_type": "code",
      "source": [
        "text = input(\"문자열을 입력하시오 : \")\n",
        "t = text[0:2] + text[-2:]\n",
        "print(t)"
      ],
      "metadata": {
        "colab": {
          "base_uri": "https://localhost:8080/"
        },
        "id": "vi76Dgm2dY5O",
        "outputId": "10040970-54bf-42c1-9157-0476c47194b3"
      },
      "execution_count": null,
      "outputs": [
        {
          "output_type": "stream",
          "name": "stdout",
          "text": [
            "문자열을 입력하시오 : python\n",
            "pyon\n"
          ]
        }
      ]
    },
    {
      "cell_type": "markdown",
      "source": [
        "# 4. "
      ],
      "metadata": {
        "id": "xBhrWH7oeE0a"
      }
    },
    {
      "cell_type": "code",
      "source": [
        "s = input(\"문자열을 입력하시오 : \")\n",
        "s = s + \"하는 중\"\n",
        "print(s)"
      ],
      "metadata": {
        "colab": {
          "base_uri": "https://localhost:8080/"
        },
        "id": "79dhsdIJeHQU",
        "outputId": "eda6454b-b11d-46d1-f299-f673b15a3868"
      },
      "execution_count": null,
      "outputs": [
        {
          "output_type": "stream",
          "name": "stdout",
          "text": [
            "문자열을 입력하시오 : 청소\n",
            "청소하는 중\n"
          ]
        }
      ]
    },
    {
      "cell_type": "markdown",
      "source": [
        "# 5."
      ],
      "metadata": {
        "id": "0tRnDUV8eksU"
      }
    },
    {
      "cell_type": "code",
      "source": [
        "str = input(\"기호를 입력하시오 : \")\n",
        "word = input(\"중간에 삽입할 문자열을 입력하시오 : \")\n",
        "s = str[:1] + word + str[1:]\n",
        "\n",
        "print(s)"
      ],
      "metadata": {
        "colab": {
          "base_uri": "https://localhost:8080/"
        },
        "id": "-QPGhVOLenAz",
        "outputId": "1bce9bb9-70a9-49e4-919c-d79eda0738f8"
      },
      "execution_count": null,
      "outputs": [
        {
          "output_type": "stream",
          "name": "stdout",
          "text": [
            "기호를 입력하시오 : []\n",
            "중간에 삽입할 문자열을 입력하시오 : python\n",
            "[python]\n"
          ]
        }
      ]
    },
    {
      "cell_type": "markdown",
      "source": [
        "# 6."
      ],
      "metadata": {
        "id": "rCIpsF6Jftpe"
      }
    },
    {
      "cell_type": "code",
      "source": [
        "list = [1, 2 ,3, 4]\n",
        "sum = 0\n",
        "sum = list[0] + list[1] + list[2] + list[3]\n",
        "\n",
        "print(\"리스트는\", list)\n",
        "print(\"리스트 숫자들의 합 :\", sum)"
      ],
      "metadata": {
        "colab": {
          "base_uri": "https://localhost:8080/"
        },
        "id": "UZ6Nj8lffveN",
        "outputId": "f2abfd03-60aa-4907-8d76-1e48aceb6d7c"
      },
      "execution_count": null,
      "outputs": [
        {
          "output_type": "stream",
          "name": "stdout",
          "text": [
            "리스트는 [1, 2, 3, 4]\n",
            "리스트 숫자들의 합 : 10\n"
          ]
        }
      ]
    },
    {
      "cell_type": "markdown",
      "source": [
        "# 7. "
      ],
      "metadata": {
        "id": "3KnVOUfTgTkq"
      }
    },
    {
      "cell_type": "markdown",
      "source": [
        "    import turtle\n",
        "\n",
        "    t = turtle.Turtle()\n",
        "\n",
        "    t.shape(\"turtle\")\n",
        "\n",
        "    list = [ ]\n",
        "\n",
        "    color = input(\"색상 #1을 입력하시오\")\n",
        "\n",
        "    list.append(color)\n",
        "\n",
        "    color = input(\"색상 #2을 입력하시오\")\n",
        "\n",
        "    list.append(color)\n",
        "\n",
        "\n",
        "    color = input(\"색상 #3을 입력하시오\")\n",
        "\n",
        "    list.append(color)\n",
        "\n",
        "    t.fillcolor(list[0])\n",
        "\n",
        "    t.beginfill()\n",
        "\n",
        "    t.circle(50)\n",
        "\n",
        "    t.endfill()\n",
        "\n",
        "    t.up()\n",
        "    t.goto(100,0)\n",
        "    t.down()\n",
        "\n",
        "    t.fillcolor(list[1])\n",
        "\n",
        "    t.beginfill()\n",
        "\n",
        "    t.circle(50)\n",
        "\n",
        "    t.endfill()\n",
        "\n",
        "    t.up()\n",
        "    t.goto(200,0)\n",
        "    t.down()\n",
        "\n",
        "    t.fillcolor(list[2])\n",
        "\n",
        "    t.beginfill()\n",
        "\n",
        "    t.circle(50)\n",
        "\n",
        "    t.endfill()\n",
        "\n",
        "    t._screen.exitonclick()"
      ],
      "metadata": {
        "id": "erYLPq5lgX1v"
      }
    },
    {
      "cell_type": "markdown",
      "source": [
        "# 8. "
      ],
      "metadata": {
        "id": "4MUMKy0thqxR"
      }
    },
    {
      "cell_type": "markdown",
      "source": [
        "    import turtle\n",
        "\n",
        "    t = turtle.Turtle()\n",
        "\n",
        "    t.shape(\"turtle\")\n",
        "\n",
        "    list = []\n",
        "\n",
        "    list.append(int(input(\"x1 : \"))\n",
        "\n",
        "    list.append(int(input(\"y1 : \"))\n",
        "\n",
        "    list.append(int(input(\"x2 : \"))\n",
        "\n",
        "    list.append(int(input(\"y2 : \"))\n",
        "\n",
        "    list.append(int(input(\"x3 : \"))\n",
        "\n",
        "    list.append(int(input(\"y3 : \"))\n",
        "\n",
        "    t.goto(list[0], list[1])\n",
        "\n",
        "    t.goto(list[2], list[3])\n",
        "\n",
        "    t.goto(list[4], list[5])\n",
        "\n",
        "    t._screen.exitonclick()\n"
      ],
      "metadata": {
        "id": "hV1HcoTqht_f"
      }
    }
  ]
}